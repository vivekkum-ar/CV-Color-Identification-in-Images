{
 "cells": [
  {
   "cell_type": "markdown",
   "id": "0d7fabe3-e067-4716-8720-c06d0f2972b6",
   "metadata": {
    "tags": []
   },
   "source": [
    "# Image Color Identifier using ML\n",
    "### <i>-by Vivek Kumar</i>\n",
    "\n",
    "<ul>\n",
    "  <li>This notebook utilizes the machine learning algorithm, <font color=\"blue\"><b>KMeans</b></font>, to extract colors from a given image.</li>\n",
    "  <li>The image manipulation is performed using <font color=\"green\"><b>OpenCV2</b></font>.</li>\n",
    "  <li>The major colors are identified by applying <font color=\"blue\"><b>KMeans</b></font>.</li>\n",
    "  <li>The information is visualized using <font color=\"red\"><b>Matplotlib</b></font>.</li>\n",
    "</ul>"
   ]
  },
  {
   "cell_type": "markdown",
   "id": "80a39b71-676c-4263-bedd-2597a5fa6914",
   "metadata": {},
   "source": [
    "## Libraries Required\n",
    "\n",
    "<ul>\n",
    "  <li>To begin, we import the required libraries.</li>\n",
    "  <li>We use <font color=\"blue\"><b>sklearn</b></font> for the KMeans algorithm.</li>\n",
    "  <li>For plotting graphs, we utilize <font color=\"red\"><b>matplotlib.pyplot</b></font>.</li>\n",
    "  <li><font color=\"green\"><b>numpy</b></font> is employed for working with arrays.</li>\n",
    "  <li>To manipulate image data, we rely on <font color=\"purple\"><b>cv2</b></font>.</li>\n",
    "  <li>The <font color=\"orange\"><b>collections</b></font> library is used to access the Counter function for value counting.</li>\n",
    "  <li>We employ <font color=\"brown\"><b>rgb2lab</b></font> to convert RGB values.</li>\n",
    "  <li>Lastly, we utilize <font color=\"magenta\"><b>deltaE_cie76</b></font> to calculate color similarity.</li>\n",
    "</ul>"
   ]
  },
  {
   "cell_type": "code",
   "execution_count": 1,
   "id": "f891bf11-6918-4b51-b2bc-3d810f88dba2",
   "metadata": {},
   "outputs": [],
   "source": [
    "from sklearn.cluster import KMeans\n",
    "import matplotlib.pyplot as plt\n",
    "import numpy as np\n",
    "import cv2\n",
    "from collections import Counter\n",
    "from skimage.color import rgb2lab, deltaE_cie76\n",
    "import os\n",
    "# from IPython.display import Image, display\n",
    "from PIL import Image\n",
    "\n",
    "\n",
    "%matplotlib inline\n",
    "\n",
    "import warnings\n",
    "# Suppress FutureWarning for KMeans\n",
    "with warnings.catch_warnings():\n",
    "    warnings.filterwarnings(\"ignore\", category=FutureWarning)"
   ]
  }
 ],
 "metadata": {
  "kernelspec": {
   "display_name": "Python 3 (ipykernel)",
   "language": "python",
   "name": "python3"
  },
  "language_info": {
   "codemirror_mode": {
    "name": "ipython",
    "version": 3
   },
   "file_extension": ".py",
   "mimetype": "text/x-python",
   "name": "python",
   "nbconvert_exporter": "python",
   "pygments_lexer": "ipython3",
   "version": "3.10.9"
  }
 },
 "nbformat": 4,
 "nbformat_minor": 5
}
